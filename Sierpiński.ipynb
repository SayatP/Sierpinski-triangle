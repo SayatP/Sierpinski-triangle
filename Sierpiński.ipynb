{
 "cells": [
  {
   "cell_type": "code",
   "execution_count": 1,
   "id": "eb935051",
   "metadata": {},
   "outputs": [],
   "source": [
    "from copy import deepcopy\n",
    "import numpy as np\n",
    "from matplotlib import pyplot as plt"
   ]
  },
  {
   "cell_type": "code",
   "execution_count": 2,
   "id": "e9fc88b4",
   "metadata": {},
   "outputs": [],
   "source": [
    "white = (255,255,255)\n",
    "black = (0, 0, 0)"
   ]
  },
  {
   "cell_type": "code",
   "execution_count": 3,
   "id": "527d0eea",
   "metadata": {},
   "outputs": [],
   "source": [
    "def mid(p1, p2):\n",
    "    return round((p1[0] + p2[0]) / 2), round((p1[1] + p2[1]) / 2)\n",
    "\n"
   ]
  },
  {
   "cell_type": "code",
   "execution_count": 4,
   "id": "3dab1234",
   "metadata": {},
   "outputs": [],
   "source": [
    "def dist(x1,y1,x2,y2):\n",
    "    return ((x2-x1)**2 + (y2-y1)**2)**0.5\n"
   ]
  },
  {
   "cell_type": "markdown",
   "id": "da75c5a0",
   "metadata": {},
   "source": [
    "## Configure the points (approximately)"
   ]
  },
  {
   "cell_type": "code",
   "execution_count": 5,
   "id": "5f98a10d",
   "metadata": {},
   "outputs": [],
   "source": [
    "points = [[5000, 500], [670, 3000], [5000, 5500]]"
   ]
  },
  {
   "cell_type": "markdown",
   "id": "935b55a3",
   "metadata": {},
   "source": [
    "## Check distances"
   ]
  },
  {
   "cell_type": "code",
   "execution_count": 6,
   "id": "ab94cd95",
   "metadata": {},
   "outputs": [
    {
     "name": "stdout",
     "output_type": "stream",
     "text": [
      "5000\n",
      "5000\n",
      "5000\n",
      "5000\n",
      "5000\n",
      "5000\n"
     ]
    }
   ],
   "source": [
    "for p in points:\n",
    "    for q in points:\n",
    "        if p != q:\n",
    "            print(round(dist(*p, *q)))"
   ]
  },
  {
   "cell_type": "markdown",
   "id": "c303b9ae",
   "metadata": {},
   "source": [
    "## Setup base"
   ]
  },
  {
   "cell_type": "code",
   "execution_count": 7,
   "id": "951bed8a",
   "metadata": {},
   "outputs": [],
   "source": [
    "base = [[deepcopy(white)] * 6000 for _ in range(6000)]"
   ]
  },
  {
   "cell_type": "markdown",
   "id": "37ea2efe",
   "metadata": {},
   "source": [
    "## Start the run"
   ]
  },
  {
   "cell_type": "code",
   "execution_count": 8,
   "id": "be9e136c",
   "metadata": {},
   "outputs": [],
   "source": [
    "import random"
   ]
  },
  {
   "cell_type": "code",
   "execution_count": 9,
   "id": "41b18a3d",
   "metadata": {},
   "outputs": [],
   "source": [
    "new_points = []\n",
    "current = [3000,3000]"
   ]
  },
  {
   "cell_type": "code",
   "execution_count": 10,
   "id": "08ee37ba",
   "metadata": {},
   "outputs": [],
   "source": [
    "for _ in range(300000):\n",
    "    current = mid(current, random.choice(points))\n",
    "    new_points.append(current)\n",
    "    "
   ]
  },
  {
   "cell_type": "markdown",
   "id": "c3efc264",
   "metadata": {},
   "source": [
    "## Add points"
   ]
  },
  {
   "cell_type": "code",
   "execution_count": 11,
   "id": "6d535ddd",
   "metadata": {},
   "outputs": [],
   "source": [
    "for p in new_points:\n",
    "    for i in range(p[0]-2, p[0]+2): # paint multiple to avoid erasing by interpolation\n",
    "        for j in range(p[1]-2, p[1]+2):\n",
    "            base[i][j] = black"
   ]
  },
  {
   "cell_type": "code",
   "execution_count": 12,
   "id": "78a0c58c",
   "metadata": {},
   "outputs": [
    {
     "data": {
      "image/png": "[encoded data removed]",
      "text/plain": [
       "<Figure size 640x480 with 1 Axes>"
      ]
     },
     "metadata": {},
     "output_type": "display_data"
    }
   ],
   "source": [
    "plt.imshow(base, interpolation='nearest', cmap='gray')\n",
    "plt.savefig('Sierpiński.png')\n",
    "plt.show()"
   ]
  }
 ],
 "metadata": {
  "kernelspec": {
   "display_name": "Python 3 (ipykernel)",
   "language": "python",
   "name": "python3"
  },
  "language_info": {
   "codemirror_mode": {
    "name": "ipython",
    "version": 3
   },
   "file_extension": ".py",
   "mimetype": "text/x-python",
   "name": "python",
   "nbconvert_exporter": "python",
   "pygments_lexer": "ipython3",
   "version": "3.11.4"
  }
 },
 "nbformat": 4,
 "nbformat_minor": 5
}
