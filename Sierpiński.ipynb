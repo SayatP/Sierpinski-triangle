{
 "cells": [
  {
   "cell_type": "code",
   "execution_count": 1,
   "id": "eb935051",
   "metadata": {},
   "outputs": [],
   "source": [
    "from copy import deepcopy\n",
    "import numpy as np\n",
    "from matplotlib import pyplot as plt"
   ]
  },
  {
   "cell_type": "code",
   "execution_count": 2,
   "id": "e9fc88b4",
   "metadata": {},
   "outputs": [],
   "source": [
    "white = (255,255,255)\n",
    "black = (0, 0, 0)"
   ]
  },
  {
   "cell_type": "code",
   "execution_count": null,
   "id": "eab74cd8",
   "metadata": {},
   "outputs": [],
   "source": []
  },
  {
   "cell_type": "markdown",
   "id": "da75c5a0",
   "metadata": {},
   "source": [
    "## Configure the points (approximately)"
   ]
  },
  {
   "cell_type": "code",
   "execution_count": 3,
   "id": "24633ff6",
   "metadata": {},
   "outputs": [],
   "source": [
    "points = [[600, 500], [-266, 1000], [600, 1500]]"
   ]
  },
  {
   "cell_type": "code",
   "execution_count": 4,
   "id": "66045056",
   "metadata": {},
   "outputs": [],
   "source": [
    "points = list(map(lambda i: [j*5 for j in i], points))"
   ]
  },
  {
   "cell_type": "code",
   "execution_count": 5,
   "id": "4109cc4b",
   "metadata": {},
   "outputs": [],
   "source": [
    "points = list(map(lambda i: [j+1500 for j in i], points))"
   ]
  },
  {
   "cell_type": "code",
   "execution_count": 6,
   "id": "e86345e1",
   "metadata": {},
   "outputs": [],
   "source": [
    "points = list(map(lambda i: [i[0]+500, i[1]-3500], points))"
   ]
  },
  {
   "cell_type": "code",
   "execution_count": 7,
   "id": "5f98a10d",
   "metadata": {},
   "outputs": [],
   "source": [
    "points = [[5000, 500], [670, 3000], [5000, 5500]]"
   ]
  },
  {
   "cell_type": "code",
   "execution_count": null,
   "id": "1f480a43",
   "metadata": {},
   "outputs": [],
   "source": []
  },
  {
   "cell_type": "code",
   "execution_count": null,
   "id": "0601dbec",
   "metadata": {},
   "outputs": [],
   "source": []
  },
  {
   "cell_type": "code",
   "execution_count": 8,
   "id": "527d0eea",
   "metadata": {},
   "outputs": [],
   "source": [
    "def mid(p1, p2):\n",
    "    return round((p1[0] + p2[0]) / 2), round((p1[1] + p2[1]) / 2)\n",
    "\n"
   ]
  },
  {
   "cell_type": "code",
   "execution_count": 9,
   "id": "3dab1234",
   "metadata": {},
   "outputs": [],
   "source": [
    "def dist(x1,y1,x2,y2):\n",
    "    return ((x2-x1)**2 + (y2-y1)**2)**0.5\n"
   ]
  },
  {
   "cell_type": "markdown",
   "id": "935b55a3",
   "metadata": {},
   "source": [
    "## Check distances"
   ]
  },
  {
   "cell_type": "code",
   "execution_count": 10,
   "id": "ab94cd95",
   "metadata": {},
   "outputs": [
    {
     "name": "stdout",
     "output_type": "stream",
     "text": [
      "[5000, 500] [670, 3000] 5000\n",
      "[5000, 500] [5000, 5500] 5000\n",
      "[670, 3000] [5000, 500] 5000\n",
      "[670, 3000] [5000, 5500] 5000\n",
      "[5000, 5500] [5000, 500] 5000\n",
      "[5000, 5500] [670, 3000] 5000\n"
     ]
    }
   ],
   "source": [
    "for p in points:\n",
    "    for q in points:\n",
    "        if p != q:\n",
    "            print(p, q, round(dist(*p, *q)))"
   ]
  },
  {
   "cell_type": "code",
   "execution_count": null,
   "id": "b9d92c20",
   "metadata": {},
   "outputs": [],
   "source": []
  },
  {
   "cell_type": "code",
   "execution_count": null,
   "id": "8e500bb0",
   "metadata": {},
   "outputs": [],
   "source": []
  },
  {
   "cell_type": "code",
   "execution_count": null,
   "id": "c3169b0e",
   "metadata": {},
   "outputs": [],
   "source": []
  },
  {
   "cell_type": "markdown",
   "id": "c303b9ae",
   "metadata": {},
   "source": [
    "# Set points"
   ]
  },
  {
   "cell_type": "code",
   "execution_count": 11,
   "id": "951bed8a",
   "metadata": {},
   "outputs": [],
   "source": [
    "base = [[deepcopy(white)] * 6000 for _ in range(6000)]\n",
    "for p in points:\n",
    "    for i in range(p[0], p[0]+100):\n",
    "        for j in range(p[1], p[1]+100):\n",
    "            base[i][j] = black"
   ]
  },
  {
   "cell_type": "code",
   "execution_count": null,
   "id": "350bda6b",
   "metadata": {},
   "outputs": [],
   "source": []
  },
  {
   "cell_type": "code",
   "execution_count": null,
   "id": "9ea3a21e",
   "metadata": {},
   "outputs": [],
   "source": []
  },
  {
   "cell_type": "code",
   "execution_count": null,
   "id": "5abd941f",
   "metadata": {},
   "outputs": [],
   "source": []
  },
  {
   "cell_type": "code",
   "execution_count": null,
   "id": "b1dc3a29",
   "metadata": {},
   "outputs": [],
   "source": []
  },
  {
   "cell_type": "markdown",
   "id": "37ea2efe",
   "metadata": {},
   "source": [
    "## Start the run"
   ]
  },
  {
   "cell_type": "code",
   "execution_count": 12,
   "id": "be9e136c",
   "metadata": {},
   "outputs": [],
   "source": [
    "import random"
   ]
  },
  {
   "cell_type": "code",
   "execution_count": 17,
   "id": "41b18a3d",
   "metadata": {},
   "outputs": [],
   "source": [
    "new_points = []\n",
    "current = [3000,3000]"
   ]
  },
  {
   "cell_type": "code",
   "execution_count": 21,
   "id": "08ee37ba",
   "metadata": {},
   "outputs": [],
   "source": [
    "for _ in range(300000):\n",
    "    current = mid(current, random.choice(points))\n",
    "    new_points.append(current)\n",
    "    "
   ]
  },
  {
   "cell_type": "code",
   "execution_count": null,
   "id": "85e4c412",
   "metadata": {},
   "outputs": [],
   "source": []
  },
  {
   "cell_type": "code",
   "execution_count": null,
   "id": "9a3f649e",
   "metadata": {},
   "outputs": [],
   "source": []
  },
  {
   "cell_type": "markdown",
   "id": "c3efc264",
   "metadata": {},
   "source": [
    "## add points"
   ]
  },
  {
   "cell_type": "code",
   "execution_count": 22,
   "id": "6d535ddd",
   "metadata": {},
   "outputs": [],
   "source": [
    "for p in new_points:\n",
    "    for i in range(p[0], p[0]+5):\n",
    "        for j in range(p[1], p[1]+5):\n",
    "            base[i][j] = black"
   ]
  },
  {
   "cell_type": "code",
   "execution_count": 23,
   "id": "78a0c58c",
   "metadata": {},
   "outputs": [
    {
     "data": {
      "image/png": "[encoded data removed]",
      "text/plain": [
       "<Figure size 640x480 with 1 Axes>"
      ]
     },
     "metadata": {},
     "output_type": "display_data"
    }
   ],
   "source": [
    "plt.imshow(base, interpolation='nearest', cmap='gray')\n",
    "plt.savefig('decrypted50k.png')\n",
    "plt.show()"
   ]
  },
  {
   "cell_type": "code",
   "execution_count": null,
   "id": "a5edc448",
   "metadata": {},
   "outputs": [],
   "source": []
  }
 ],
 "metadata": {
  "kernelspec": {
   "display_name": "Python 3 (ipykernel)",
   "language": "python",
   "name": "python3"
  },
  "language_info": {
   "codemirror_mode": {
    "name": "ipython",
    "version": 3
   },
   "file_extension": ".py",
   "mimetype": "text/x-python",
   "name": "python",
   "nbconvert_exporter": "python",
   "pygments_lexer": "ipython3",
   "version": "3.11.4"
  }
 },
 "nbformat": 4,
 "nbformat_minor": 5
}
